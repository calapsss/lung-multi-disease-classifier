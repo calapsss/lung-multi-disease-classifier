{
 "cells": [
  {
   "cell_type": "code",
   "execution_count": 1,
   "id": "1c8ddfb7",
   "metadata": {},
   "outputs": [],
   "source": [
    "import gradio as gr\n",
    "import matplotlib.pyplot as plt\n",
    "import numpy as np\n",
    "import os\n",
    "import PIL\n",
    "import tensorflow as tf\n",
    "\n",
    "from tensorflow import keras\n",
    "from tensorflow.keras import layers\n",
    "from tensorflow.keras.models import Sequential"
   ]
  },
  {
   "cell_type": "code",
   "execution_count": 2,
   "id": "3903373b",
   "metadata": {},
   "outputs": [
    {
     "name": "stdout",
     "output_type": "stream",
     "text": [
      "Metal device set to: Apple M1\n"
     ]
    },
    {
     "name": "stderr",
     "output_type": "stream",
     "text": [
      "2022-08-08 08:36:33.737370: I tensorflow/core/common_runtime/pluggable_device/pluggable_device_factory.cc:305] Could not identify NUMA node of platform GPU ID 0, defaulting to 0. Your kernel may not have been built with NUMA support.\n",
      "2022-08-08 08:36:33.737772: I tensorflow/core/common_runtime/pluggable_device/pluggable_device_factory.cc:271] Created TensorFlow device (/job:localhost/replica:0/task:0/device:GPU:0 with 0 MB memory) -> physical PluggableDevice (device: 0, name: METAL, pci bus id: <undefined>)\n"
     ]
    }
   ],
   "source": [
    "model = keras.models.load_model('models/1659956154')\n"
   ]
  },
  {
   "cell_type": "code",
   "execution_count": 3,
   "id": "0e562797",
   "metadata": {},
   "outputs": [],
   "source": [
    "class_names = ['COVID19','NORMAL','PNEUMONIA','TUBERCULOSIS']\n",
    "def predict_image(img):\n",
    "  img_4d=img.reshape((-1,224,224,3))\n",
    "    \n",
    "  prediction=model.predict(img_4d).flatten()\n",
    "  return {class_names[i]: float(prediction[i]) for i in range(4)}"
   ]
  },
  {
   "cell_type": "code",
   "execution_count": null,
   "id": "686c3f09",
   "metadata": {},
   "outputs": [],
   "source": [
    "image = gr.inputs.Image(shape=(224,224))\n",
    "label = gr.outputs.Label(num_top_classes=4)\n",
    "\n",
    "gr.Interface(fn=predict_image, inputs=image, outputs=label,interpretation='default').launch(debug='True')"
   ]
  }
 ],
 "metadata": {
  "kernelspec": {
   "display_name": "Python 3 (ipykernel)",
   "language": "python",
   "name": "python3"
  },
  "language_info": {
   "codemirror_mode": {
    "name": "ipython",
    "version": 3
   },
   "file_extension": ".py",
   "mimetype": "text/x-python",
   "name": "python",
   "nbconvert_exporter": "python",
   "pygments_lexer": "ipython3",
   "version": "3.8.13"
  }
 },
 "nbformat": 4,
 "nbformat_minor": 5
}
